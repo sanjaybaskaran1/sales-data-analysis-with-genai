{
 "cells": [
  {
   "cell_type": "code",
   "execution_count": 1,
   "id": "dd414f34-1298-4bfd-b7c5-a82ace31ffc4",
   "metadata": {},
   "outputs": [],
   "source": [
    "from pyspark.sql import SparkSession"
   ]
  },
  {
   "cell_type": "code",
   "execution_count": 2,
   "id": "08200aaa-50b5-4dbe-b9ac-576588f8272f",
   "metadata": {},
   "outputs": [],
   "source": [
    "app = SparkSession.builder \\\n",
    "      .appName(\"Sales Data Analysis with integrating Gen AI\") \\\n",
    "      .config(\"spark.jars\",\"/path/to/mysql-connector-j-8.4.0.jar\") \\\n",
    "      .getOrCreate()"
   ]
  },
  {
   "cell_type": "code",
   "execution_count": 3,
   "id": "9b0133ee-e2ae-427c-81c7-424988dc6a03",
   "metadata": {},
   "outputs": [],
   "source": [
    "import pandas as pd"
   ]
  },
  {
   "cell_type": "code",
   "execution_count": 4,
   "id": "886179fc",
   "metadata": {},
   "outputs": [],
   "source": [
    "import pandasai"
   ]
  },
  {
   "cell_type": "code",
   "execution_count": 5,
   "id": "ebcddd7d",
   "metadata": {},
   "outputs": [],
   "source": [
    "from pandasai.llm.openai import OpenAI"
   ]
  },
  {
   "cell_type": "code",
   "execution_count": 6,
   "id": "e0db1243",
   "metadata": {},
   "outputs": [],
   "source": [
    "import os"
   ]
  },
  {
   "cell_type": "code",
   "execution_count": null,
   "id": "7af8aa6c",
   "metadata": {},
   "outputs": [],
   "source": [
    "os.environ['PANDASAI_API_KEY'] = \"\""
   ]
  },
  {
   "cell_type": "code",
   "execution_count": 7,
   "id": "0990dd74",
   "metadata": {},
   "outputs": [],
   "source": [
    "import os\n",
    "\n",
    "from pandasai import SmartDataframe"
   ]
  },
  {
   "cell_type": "code",
   "execution_count": 10,
   "id": "4814f860",
   "metadata": {},
   "outputs": [],
   "source": [
    "import openai"
   ]
  },
  {
   "cell_type": "code",
   "execution_count": 11,
   "id": "613f99ec",
   "metadata": {},
   "outputs": [],
   "source": [
    "from openai import OpenAI"
   ]
  },
  {
   "cell_type": "code",
   "execution_count": null,
   "id": "13f7d3cc",
   "metadata": {},
   "outputs": [],
   "source": [
    "openai.api_key = \"\""
   ]
  },
  {
   "cell_type": "code",
   "execution_count": 13,
   "id": "267404fc-64de-40a7-8798-908873202b11",
   "metadata": {},
   "outputs": [],
   "source": [
    "host_name = 'localhost'\n",
    "port_number = 3306\n",
    "database_name = \"sales\"\n",
    "url = f\"jdbc:mysql://{host_name}:{port_number}/{database_name}\""
   ]
  },
  {
   "cell_type": "code",
   "execution_count": null,
   "id": "ee04c05f-a9f3-4e83-af9d-c82e1f29e8f2",
   "metadata": {},
   "outputs": [],
   "source": [
    "connection_properties = {\n",
    "\n",
    "    \"user\":\"root\",\n",
    "    \"password\":\"\",\n",
    "    \"driver\":\"com.mysql.cj.jdbc.Driver\"\n",
    "}"
   ]
  },
  {
   "cell_type": "code",
   "execution_count": 15,
   "id": "5a0e1284-a711-4b46-9885-819a90b1813a",
   "metadata": {},
   "outputs": [],
   "source": [
    "table1 = \"orders\""
   ]
  },
  {
   "cell_type": "code",
   "execution_count": 16,
   "id": "2493dbb9-b0b3-4dee-8983-2d66b9221446",
   "metadata": {},
   "outputs": [
    {
     "name": "stdout",
     "output_type": "stream",
     "text": [
      "+------------+-------------------+-------------------+-------------------+-----------+-------------+--------------+------------+-------------+--------------+-------------+----------+-------------+--------+\n",
      "| OrderNumber|          OrderDate|          Ship Date|Customer Name Index|    Channel|Currency Code|Warehouse Code|Region Index|Product Index|Order Quantity|Selling Price|Cost Price|Total Revenue|  Profit|\n",
      "+------------+-------------------+-------------------+-------------------+-----------+-------------+--------------+------------+-------------+--------------+-------------+----------+-------------+--------+\n",
      "| SO - 000225|2017-01-01 00:00:00|2017-01-13 00:00:00|                 28|  Wholesale|          NZD|        AXW291|          71|           11|             6|       2499.1|   1824.34|      14994.6| 4048.56|\n",
      "|SO - 0003378|2017-01-01 00:00:00|2017-01-06 00:00:00|                  7|Distributor|          NZD|        AXW291|          54|            7|            11|       2351.7|   1269.92|      25868.7|11899.58|\n",
      "|SO - 0003901|2017-01-01 00:00:00|2017-01-05 00:00:00|                 12|  Wholesale|          NZD|        AXW291|          58|           13|             5|       1728.6|   1019.87|       8643.0| 3543.65|\n",
      "|SO - 0005126|2017-01-01 00:00:00|2017-01-17 00:00:00|                  5|  Wholesale|          USD|        AXW291|          29|            7|             6|        978.2|    684.74|       5869.2| 1760.76|\n",
      "|SO - 0005614|2017-01-01 00:00:00|2017-01-07 00:00:00|                 27|     Export|          NZD|        AXW291|          31|            6|             7|       2338.3|   1028.85|      16368.1| 9166.15|\n",
      "|SO - 0005781|2017-01-01 00:00:00|2017-01-15 00:00:00|                 44|  Wholesale|          GBP|        AXW291|          78|            9|             8|       2291.4|   1260.27|      18331.2| 8249.04|\n",
      "|SO - 0002911|2017-01-02 00:00:00|2017-01-15 00:00:00|                 37|  Wholesale|          EUR|        AXW291|           2|            2|             6|        911.2|    665.18|       5467.2| 1476.12|\n",
      "|SO - 0003527|2017-01-02 00:00:00|2017-01-19 00:00:00|                  8|  Wholesale|          USD|        AXW291|          77|            9|            11|       1701.8|   1429.51|      18719.8| 2995.19|\n",
      "|SO - 0004792|2017-01-02 00:00:00|2017-01-13 00:00:00|                 14|  Wholesale|          NZD|        AXW291|          82|           11|             6|        167.5|     83.75|       1005.0|   502.5|\n",
      "|SO - 0005414|2017-01-02 00:00:00|2017-01-05 00:00:00|                 47|  Wholesale|          USD|        AXW291|          71|            7|             7|       1835.8|   1413.57|      12850.6| 2955.61|\n",
      "+------------+-------------------+-------------------+-------------------+-----------+-------------+--------------+------------+-------------+--------------+-------------+----------+-------------+--------+\n",
      "only showing top 10 rows\n",
      "\n"
     ]
    }
   ],
   "source": [
    "try:\n",
    "    orders_df = app.read.jdbc(url=url, table=table1, properties=connection_properties)\n",
    "    orders_df.show(n=10)\n",
    "except Exception as e:\n",
    "    print(f\"error as {e}\")"
   ]
  },
  {
   "cell_type": "code",
   "execution_count": 17,
   "id": "4123f476-f85e-4213-b5af-20433b018aaf",
   "metadata": {},
   "outputs": [],
   "source": [
    "table2 = \"customers\""
   ]
  },
  {
   "cell_type": "code",
   "execution_count": 18,
   "id": "fff7dfd7-b270-4c03-a28f-52861762c017",
   "metadata": {},
   "outputs": [
    {
     "name": "stdout",
     "output_type": "stream",
     "text": [
      "+--------------+--------------+\n",
      "|Customer Index|Customer Names|\n",
      "+--------------+--------------+\n",
      "|             1|     Avon Corp|\n",
      "|             2|     WakeFern |\n",
      "|             3|  Elorac, Corp|\n",
      "|             4|     ETUDE Ltd|\n",
      "|             5|  Procter Corp|\n",
      "|             6| PEDIFIX, Corp|\n",
      "|             7|       New Ltd|\n",
      "|             8|  Medsep Group|\n",
      "|             9|           Ei |\n",
      "|            10|      21st Ltd|\n",
      "|            11|    Apollo Ltd|\n",
      "|            12|      Medline |\n",
      "|            13|     Ole Group|\n",
      "|            14|        Linde |\n",
      "|            15| Rochester Ltd|\n",
      "|            16|     3LAB, Ltd|\n",
      "|            17|    Pure Group|\n",
      "|            18| Eminence Corp|\n",
      "|            19|    Qualitest |\n",
      "|            20|   Pacific Ltd|\n",
      "+--------------+--------------+\n",
      "only showing top 20 rows\n",
      "\n"
     ]
    }
   ],
   "source": [
    "try:\n",
    "    customers_df = app.read.jdbc(url=url, table=table2, properties=connection_properties)\n",
    "    customers_df.show()\n",
    "except Exception as e:\n",
    "    print(f\"error as {e}\")"
   ]
  },
  {
   "cell_type": "code",
   "execution_count": 19,
   "id": "502abcbb-2cba-4b40-adaa-47f9b0bfc555",
   "metadata": {},
   "outputs": [],
   "source": [
    "table3 = \"products\""
   ]
  },
  {
   "cell_type": "code",
   "execution_count": 20,
   "id": "807dd5f6-3644-4b5d-9af2-02708f0e91f4",
   "metadata": {},
   "outputs": [
    {
     "name": "stdout",
     "output_type": "stream",
     "text": [
      "+-----+------------+\n",
      "|Index|Product Name|\n",
      "+-----+------------+\n",
      "|    1|   Product 1|\n",
      "|    2|   Product 2|\n",
      "|    3|   Product 3|\n",
      "|    4|   Product 4|\n",
      "|    5|   Product 5|\n",
      "|    6|   Product 6|\n",
      "|    7|   Product 7|\n",
      "|    8|   Product 8|\n",
      "|    9|   Product 9|\n",
      "|   10|  Product 10|\n",
      "|   11|  Product 11|\n",
      "|   12|  Product 12|\n",
      "|   13|  Product 13|\n",
      "|   14|  Product 14|\n",
      "|   20|  Product 20|\n",
      "+-----+------------+\n",
      "\n"
     ]
    }
   ],
   "source": [
    "try:\n",
    "   products_df = app.read.jdbc(url=url, table=table3, properties=connection_properties)\n",
    "   products_df.show()\n",
    "except Exception as e:\n",
    "    print(f\"error as {e}\")"
   ]
  },
  {
   "cell_type": "code",
   "execution_count": 21,
   "id": "11c81331-af1a-470f-9942-848ac7e5fd13",
   "metadata": {},
   "outputs": [],
   "source": [
    "table4 = \"regions\""
   ]
  },
  {
   "cell_type": "code",
   "execution_count": 22,
   "id": "2abdc1ad-9910-4da1-b5c1-3d9ab3ef2d82",
   "metadata": {},
   "outputs": [
    {
     "name": "stdout",
     "output_type": "stream",
     "text": [
      "+-----+------------------+-----------------+--------+----------+----------+--------------------+\n",
      "|Index|            Suburb|             City|postcode| Longitude|  Latitude|        Full Address|\n",
      "+-----+------------------+-----------------+--------+----------+----------+--------------------+\n",
      "|    1|      Freemans Bay|         Auckland|    1011|174.748652|-36.855732|Picton Street, Fr...|\n",
      "|    2|         Nightcaps|        Southland|    9630|168.028823|  -45.9703|Lyne Street, Nigh...|\n",
      "|    3|         Northcote|      North Shore|     627|174.755505|-36.804712|McBreen Avenue, N...|\n",
      "|    4|          Bay View|           Napier|    4104|176.871662|-39.440389|Ferguson Street S...|\n",
      "|    5|         Parklands|     Christchurch|    8083|172.705997|-43.472699|Forest Drive, Par...|\n",
      "|    6|     Hamilton East|         Hamilton|    3216|175.305496|-37.781657|Rochford Court, H...|\n",
      "|    7|          Te Kuiti|          Waitomo|    3910|175.163086|-38.330973|Alexandra Street,...|\n",
      "|    8|           Opaheke|         Papakura|    2113|174.947631|-37.077401|Rhonda Place, Opa...|\n",
      "|    9| North East Valley|          Dunedin|    9010|170.527081|-45.846837|Selwyn Street, No...|\n",
      "|   10|        Whangamata|Thames-Coromandel|    3620|175.883257|-37.219172|Pipi Road, Whanga...|\n",
      "|   11|        Algies Bay|           Rodney|     920|174.745447|-36.437912|Athol Place, Algi...|\n",
      "|   12|         Henderson|        Waitakere|     610|174.634157|-36.870359|Hoya Court, Hende...|\n",
      "|   13|           Atawhai|           Nelson|    7010|173.326718|-41.241585|Strathaven Place,...|\n",
      "|   14|    Pleasant Point|           Timaru|    7903|171.122902|-44.258881|Runa Terrace, Ple...|\n",
      "|   15|           Frimley|         Hastings|    4120|176.832406|-39.621293|Hart Drive, Friml...|\n",
      "|   16|       Harrowfield|         Hamilton|    3210|175.266597|-37.742625|Wairere Drive, Pu...|\n",
      "|   17|           Tapanui|           Clutha|    9522|169.262758|-45.942122|Sussex Street, Ta...|\n",
      "|   18|           Tokoroa|    South Waikato|    3420|175.869172|-38.220872|Balerno Place, To...|\n",
      "|   19|            Thames|Thames-Coromandel|    3500| 175.54712| -37.09327|Victoria Street, ...|\n",
      "|   20|Onekawa Industrial|           Napier|    4110|176.875116|-39.498856|Hamilton Place, O...|\n",
      "+-----+------------------+-----------------+--------+----------+----------+--------------------+\n",
      "only showing top 20 rows\n",
      "\n"
     ]
    }
   ],
   "source": [
    "try:\n",
    "    regions_df = app.read.jdbc(url=url, table=table4, properties=connection_properties)\n",
    "    regions_df.show()\n",
    "except Exception as e:\n",
    "    print(f\"error as {e}\")"
   ]
  },
  {
   "cell_type": "code",
   "execution_count": 23,
   "id": "6b4596f7-1aeb-460e-a150-bf3638659ed0",
   "metadata": {},
   "outputs": [],
   "source": [
    "orders_df.createOrReplaceTempView(\"orders\")"
   ]
  },
  {
   "cell_type": "code",
   "execution_count": 24,
   "id": "fac79c53-53d4-4df6-bced-32fdaf3f4d74",
   "metadata": {},
   "outputs": [],
   "source": [
    "customers_df.createOrReplaceTempView(\"customers\")"
   ]
  },
  {
   "cell_type": "code",
   "execution_count": 25,
   "id": "6e28192e-3a63-45f6-b08d-f1af4da3ea8e",
   "metadata": {},
   "outputs": [],
   "source": [
    "products_df.createOrReplaceTempView(\"products\")"
   ]
  },
  {
   "cell_type": "code",
   "execution_count": 26,
   "id": "a2ad5c62-1458-4dce-9fd2-7e58aaa9a222",
   "metadata": {},
   "outputs": [],
   "source": [
    "regions_df.createOrReplaceTempView(\"regions\")"
   ]
  },
  {
   "cell_type": "markdown",
   "id": "b0567ce1",
   "metadata": {},
   "source": [
    "## find the month wise total profit"
   ]
  },
  {
   "cell_type": "code",
   "execution_count": 27,
   "id": "f0c89325-22e8-4b3f-8fa3-31492904757c",
   "metadata": {},
   "outputs": [
    {
     "name": "stdout",
     "output_type": "stream",
     "text": [
      "+-----+------------+\n",
      "|Month|Total Profit|\n",
      "+-----+------------+\n",
      "|    1|   4791277.3|\n",
      "|    2|  4239747.77|\n",
      "|    3|  5434826.12|\n",
      "|    4|  4683583.31|\n",
      "|    5|  4905461.72|\n",
      "|    6|  4616685.11|\n",
      "|    7|  4651450.05|\n",
      "|    8|  4988199.63|\n",
      "|    9|   5174513.3|\n",
      "|   10|   5004587.3|\n",
      "|   11|  4666011.03|\n",
      "|   12|  4632769.78|\n",
      "+-----+------------+\n",
      "\n"
     ]
    }
   ],
   "source": [
    "result1 = app.sql(\n",
    "    '''\n",
    "    select month(OrderDate) as `Month`,\n",
    "    round(sum(profit), 2) as `Total Profit`\n",
    "    from orders\n",
    "    group by Month\n",
    "    order by Month asc\n",
    "    '''\n",
    ")\n",
    "\n",
    "result1.show()"
   ]
  },
  {
   "cell_type": "code",
   "execution_count": 71,
   "id": "f4a11cab",
   "metadata": {},
   "outputs": [
    {
     "data": {
      "text/plain": [
       "'The month with the highest total profit is March and the month with the lowest total profit is February.'"
      ]
     },
     "execution_count": 71,
     "metadata": {},
     "output_type": "execute_result"
    }
   ],
   "source": [
    "df = result1.toPandas()\n",
    "df_smart = SmartDataframe(df)\n",
    "df_smart.chat(\"\"\"find which Month has highest Total Profit and which Month has lowest Total Profit \n",
    "              tell the month name like january february...\"\"\")"
   ]
  },
  {
   "cell_type": "markdown",
   "id": "fff7a15f",
   "metadata": {},
   "source": [
    "## --------------------------------------------------------------------------"
   ]
  },
  {
   "cell_type": "markdown",
   "id": "8b0586a7",
   "metadata": {},
   "source": [
    "## find the month over month profit"
   ]
  },
  {
   "cell_type": "code",
   "execution_count": 55,
   "id": "3a8839b8-0870-46c9-b8fa-5d6120f2cf43",
   "metadata": {},
   "outputs": [
    {
     "name": "stdout",
     "output_type": "stream",
     "text": [
      "+-----+------------+-----------------------+\n",
      "|Month|Total Profit|Month over Month Profit|\n",
      "+-----+------------+-----------------------+\n",
      "|    1|   4791277.3|              4791277.3|\n",
      "|    2|  4239747.77|             9031025.07|\n",
      "|    3|  5434826.12|          1.446585119E7|\n",
      "|    4|  4683583.31|           1.91494345E7|\n",
      "|    5|  4905461.72|          2.405489622E7|\n",
      "|    6|  4616685.11|          2.867158133E7|\n",
      "|    7|  4651450.05|          3.332303138E7|\n",
      "|    8|  4988199.63|          3.831123101E7|\n",
      "|    9|   5174513.3|          4.348574431E7|\n",
      "|   10|   5004587.3|          4.849033161E7|\n",
      "|   11|  4666011.03|          5.315634264E7|\n",
      "|   12|  4632769.78|          5.778911242E7|\n",
      "+-----+------------+-----------------------+\n",
      "\n"
     ]
    }
   ],
   "source": [
    "result2 = app.sql(\n",
    "    '''\n",
    "    with cte as\n",
    "    (\n",
    "    select month(OrderDate) as `Month`,\n",
    "    round(sum(profit), 2) as `Total Profit`\n",
    "    from orders\n",
    "    group by Month\n",
    "    order by Month asc\n",
    "    )\n",
    "    select *,\n",
    "    round(sum(`Total Profit`) over(order by `Month` asc), 2) as `Month over Month Profit`\n",
    "    from cte\n",
    "    '''\n",
    ")\n",
    "\n",
    "result2.show()"
   ]
  },
  {
   "cell_type": "markdown",
   "id": "a951e3d7",
   "metadata": {},
   "source": [
    "## --------------------------------------------------------------------------"
   ]
  },
  {
   "cell_type": "markdown",
   "id": "0a45744b",
   "metadata": {},
   "source": [
    "## top 10 products by profit"
   ]
  },
  {
   "cell_type": "code",
   "execution_count": 54,
   "id": "40b943c9-c82a-4dd2-a953-a8a30037a53a",
   "metadata": {},
   "outputs": [
    {
     "name": "stdout",
     "output_type": "stream",
     "text": [
      "+------------+--------------+----------+-------------+-------------+----------+--------+----+\n",
      "|Product Name|Order Quantity|Cost Price|Selling Price|Total Revenue|Total Cost|  Profit|rank|\n",
      "+------------+--------------+----------+-------------+-------------+----------+--------+----+\n",
      "|   Product 5|            12|   2749.28|       6545.9|      78550.8|  32991.36|45559.44|   1|\n",
      "|   Product 1|            12|   2835.98|       6445.4|      77344.8|  34031.76|43313.04|   2|\n",
      "|   Product 3|            12|   2903.45|       6452.1|      77425.2|   34841.4| 42583.8|   3|\n",
      "|   Product 2|            12|   2555.11|       6083.6|      73003.2|  30661.32|42341.88|   4|\n",
      "|   Product 2|            12|   2797.92|       6217.6|      74611.2|  33575.04|41036.16|   5|\n",
      "|   Product 1|            11|   2590.42|       6318.1|      69499.1|  28494.62|41004.48|   6|\n",
      "|   Product 3|            12|   2467.88|       5875.9|      70510.8|  29614.56|40896.24|   7|\n",
      "|   Product 1|            12|   3138.82|       6539.2|      78470.4|  37665.84|40804.56|   8|\n",
      "|   Product 7|            12|   2737.62|       6083.6|      73003.2|  32851.44|40151.76|   9|\n",
      "|  Product 11|            12|   2520.88|       5862.5|      70350.0|  30250.56|40099.44|  10|\n",
      "+------------+--------------+----------+-------------+-------------+----------+--------+----+\n",
      "\n"
     ]
    }
   ],
   "source": [
    "result3 = app.sql(\n",
    "       '''\n",
    "       with `profit_rank` as\n",
    "       (\n",
    "       select p.`Product Name`,o.`Order Quantity`, o.`Cost Price`,o.`Selling Price`, o.`Total Revenue`,\n",
    "       round(o.`Order Quantity` * o.`Cost Price`, 2) as `Total Cost`,o.`Profit`,\n",
    "       dense_rank() over(order by Profit desc) as `rank`\n",
    "       from (orders as o) inner join (products as p)\n",
    "       on o.`Product Index` = p.Index\n",
    "       )\n",
    "       select * from profit_rank where rank <=10\n",
    "       '''\n",
    ")\n",
    "result3.show()"
   ]
  },
  {
   "cell_type": "code",
   "execution_count": 58,
   "id": "e4a87524",
   "metadata": {},
   "outputs": [
    {
     "data": {
      "text/plain": [
       "'The product with the highest profit is Product 5 and the product with the lowest profit is Product 11.'"
      ]
     },
     "execution_count": 58,
     "metadata": {},
     "output_type": "execute_result"
    }
   ],
   "source": [
    "df2 = result3.toPandas()\n",
    "smart_df2 = SmartDataframe(df2)\n",
    "smart_df2.chat(\"which product Name has the highest profit and which product Name has lowest profit\")"
   ]
  },
  {
   "cell_type": "markdown",
   "id": "74168dcb",
   "metadata": {},
   "source": [
    "## --------------------------------------------------------------------------"
   ]
  },
  {
   "cell_type": "markdown",
   "metadata": {},
   "source": [
    "## Total Sales and total profit for each products"
   ]
  },
  {
   "cell_type": "code",
   "execution_count": 72,
   "id": "32070924",
   "metadata": {},
   "outputs": [
    {
     "name": "stdout",
     "output_type": "stream",
     "text": [
      "+------------+------------+------------+\n",
      "|Product Name| Total Sales|Total Profit|\n",
      "+------------+------------+------------+\n",
      "|   Product 1|2.54892991E7|  9596180.27|\n",
      "|   Product 7|2.57101244E7|  9545304.86|\n",
      "|   Product 2|2.28464975E7|  8705229.41|\n",
      "|  Product 11|2.06218094E7|  7698384.32|\n",
      "|   Product 5|1.70211557E7|  6445172.72|\n",
      "|  Product 13|1.17746604E7|  4133532.73|\n",
      "|   Product 9|   9261644.5|   3546673.2|\n",
      "|  Product 14|   3144263.1|  1262405.75|\n",
      "|   Product 6|   3341216.3|  1199190.73|\n",
      "|  Product 10|   3114005.9|  1188981.28|\n",
      "|   Product 8|   3215604.7|   1176884.6|\n",
      "|  Product 12|   3109289.1|  1112039.98|\n",
      "|   Product 4|   2857288.7|  1093602.43|\n",
      "|   Product 3|   3066281.8|  1085530.14|\n",
      "+------------+------------+------------+\n",
      "\n"
     ]
    }
   ],
   "source": [
    "result4 = app.sql(\n",
    "       '''\n",
    "       select p.`Product Name`, round(sum(o.`Total Revenue`), 2) as `Total Sales`,\n",
    "       round(sum(o.`Profit`), 2) as `Total Profit`\n",
    "       from (orders as o) inner join (products as p)\n",
    "       on o.`Product Index` = p.Index\n",
    "       group by `Product Name`\n",
    "       order by `Total Profit` desc\n",
    "       '''\n",
    ")\n",
    "result4.show()"
   ]
  },
  {
   "cell_type": "code",
   "execution_count": 73,
   "id": "8d711b4b",
   "metadata": {},
   "outputs": [
    {
     "data": {
      "text/plain": [
       "'The Product with the highest Total Profit is Product 1, and the Product with the lowest Total Profit is Product 3.'"
      ]
     },
     "execution_count": 73,
     "metadata": {},
     "output_type": "execute_result"
    }
   ],
   "source": [
    "df_new = result4.toPandas()\n",
    "df_new_smart = SmartDataframe(df_new)\n",
    "df_new_smart.chat(\"\"\"which Product Name has the highest Total Profit \n",
    "                  and which Product Name has the lowest Total Profit.\"\"\")"
   ]
  },
  {
   "cell_type": "markdown",
   "id": "af008946",
   "metadata": {},
   "source": [
    "## --------------------------------------------------------------------------"
   ]
  },
  {
   "cell_type": "markdown",
   "id": "b3ccf193",
   "metadata": {},
   "source": [
    "## find the top 20 customers based on profit"
   ]
  },
  {
   "cell_type": "code",
   "execution_count": 74,
   "id": "a9bb8f56-743e-410a-997e-1ac7efdb65f6",
   "metadata": {},
   "outputs": [
    {
     "name": "stdout",
     "output_type": "stream",
     "text": [
      "+---------------+-----------+------------+-----------+\n",
      "| Customer Names|Total Sales|Total Profit|profit rank|\n",
      "+---------------+-----------+------------+-----------+\n",
      "|       Medline |  4081485.9|  1506669.31|          1|\n",
      "|     Pure Group|  3821592.9|  1402517.29|          2|\n",
      "|        OUR Ltd|  3676035.4|  1398368.61|          3|\n",
      "|     Apollo Ltd|  3600358.9|  1392406.16|          4|\n",
      "|    OHTA'S Corp|  3533801.1|  1355516.68|          5|\n",
      "|  Apotheca, Ltd|  3608492.7|  1337765.81|          6|\n",
      "|  Eminence Corp|  3643426.5|   1332935.5|          7|\n",
      "|          Ohio |  3347681.8|  1318352.27|          8|\n",
      "|      ETUDE Ltd|  3288018.3|  1314732.71|          9|\n",
      "|         Linde |  3314610.6|  1286557.86|         10|\n",
      "|    Victory Ltd|  3407814.3|  1263720.89|         11|\n",
      "|            Ei |  3273653.5|   1261536.3|         12|\n",
      "|   Prasco Group|  3215933.0|  1231436.19|         13|\n",
      "|      Ole Group|  3462881.6|  1227354.35|         14|\n",
      "|  Rochester Ltd|  3039903.9|  1215109.37|         15|\n",
      "|    Weimei Corp|  3164785.2|  1212960.32|         16|\n",
      "|       Sundial |  3195779.4|   1209882.2|         17|\n",
      "|       O.E. Ltd|  3188148.1|  1201793.97|         18|\n",
      "|   Fenwal, Corp|  3201253.3|  1195601.54|         19|\n",
      "|         Nipro |  3216770.5|  1187430.58|         20|\n",
      "|    Llorens Ltd|  3003623.4|  1177538.73|         21|\n",
      "|   Procter Corp|  2974210.4|  1157133.04|         22|\n",
      "|   Elorac, Corp|  3209956.6|  1145761.44|         23|\n",
      "| Exact-Rx, Corp|  3033270.9|  1144379.66|         24|\n",
      "|         E. Ltd|  3158192.4|  1138492.57|         25|\n",
      "|    Uriel Group|  2871251.5|  1129107.74|         26|\n",
      "|        Trigen |  2994230.0|  1104808.18|         27|\n",
      "|    Pacific Ltd|  2834636.0|  1102956.56|         28|\n",
      "|       Capweld |  2907156.8|  1092482.02|         29|\n",
      "| Niconovum Corp|  2873388.8|  1089667.34|         30|\n",
      "|AuroMedics Corp|  2881067.0|  1083717.07|         31|\n",
      "|       U.S. Ltd|  2938130.9|   1079846.8|         32|\n",
      "|    Burt's Corp|  2954887.6|  1076294.85|         33|\n",
      "|  PEDIFIX, Corp|  2792258.5|  1073495.19|         34|\n",
      "|        Select |  2940770.7|  1072774.31|         35|\n",
      "|       21st Ltd|  3170111.7|  1068321.48|         36|\n",
      "|     Dharma Ltd|  2872035.4|  1062472.51|         37|\n",
      "|          Bare |  2973573.9|  1061465.66|         38|\n",
      "|   S.S.S. Group|  2830234.1|  1055965.86|         39|\n",
      "|      3LAB, Ltd|  2756440.3|  1055493.22|         40|\n",
      "|      Winthrop |  2831741.6|  1048406.91|         41|\n",
      "|     Qualitest |  3002497.8|  1047370.96|         42|\n",
      "|   Medsep Group|  2825812.1|  1033325.37|         43|\n",
      "|        New Ltd|  2862005.5|  1030665.31|         44|\n",
      "|     Ascend Ltd|  2773974.2|  1029654.62|         45|\n",
      "|     Wuxi Group|  2584592.0|  1007694.17|         46|\n",
      "|     Mylan Corp|  2688361.6|   990151.49|         47|\n",
      "|      Avon Corp|  2694766.8|    983673.4|         48|\n",
      "|   Amylin Group|  2692575.9|   919264.84|         49|\n",
      "|      WakeFern |  2364959.3|   874083.21|         50|\n",
      "+---------------+-----------+------------+-----------+\n",
      "\n"
     ]
    }
   ],
   "source": [
    "result5 = app.sql(\n",
    "       '''\n",
    "       with `customer_sales` as\n",
    "       (\n",
    "       select c.`Customer Names`, round(sum(o.`Total Revenue`), 2) as `Total Sales`,\n",
    "       round(sum(o.`Profit`), 2) as `Total Profit`\n",
    "       from (orders as o) inner join (customers as c)\n",
    "       on o.`Customer Name Index` = c.`Customer Index`\n",
    "       group by `Customer Names`\n",
    "       )\n",
    "       select *,\n",
    "       dense_rank() over(order by `Total Profit` desc) as `profit rank`\n",
    "       from customer_sales\n",
    "       '''\n",
    ")\n",
    "result5.show(n=2000)"
   ]
  },
  {
   "cell_type": "code",
   "execution_count": 76,
   "id": "23d50750",
   "metadata": {},
   "outputs": [
    {
     "data": {
      "text/plain": [
       "'The customer with the highest total profit is Medline , and the customer with the lowest total profit is WakeFern .'"
      ]
     },
     "execution_count": 76,
     "metadata": {},
     "output_type": "execute_result"
    }
   ],
   "source": [
    "df_new2 = result5.toPandas()\n",
    "df_new2_smart = SmartDataframe(df_new2)\n",
    "df_new2_smart.chat(\"\"\"find which customer has the highest Total profit \n",
    "                   and which customer has the lowest Total profit \"\"\")"
   ]
  },
  {
   "cell_type": "markdown",
   "id": "1b41ec20",
   "metadata": {},
   "source": [
    "## --------------------------------------------------------------------------"
   ]
  },
  {
   "cell_type": "markdown",
   "id": "7809f492",
   "metadata": {},
   "source": [
    "## find the yearly total profit"
   ]
  },
  {
   "cell_type": "code",
   "execution_count": 31,
   "id": "b5e47d0d-0cfc-4434-bf12-bfc25f029c75",
   "metadata": {},
   "outputs": [
    {
     "name": "stdout",
     "output_type": "stream",
     "text": [
      "+----+------------+-------------+\n",
      "|year| Total Sales| Total Profit|\n",
      "+----+------------+-------------+\n",
      "|2017|5.25805347E7|1.967776122E7|\n",
      "|2018|5.34636617E7|1.978917841E7|\n",
      "|2019|4.85289442E7|1.832217279E7|\n",
      "+----+------------+-------------+\n",
      "\n"
     ]
    }
   ],
   "source": [
    "result6 = app.sql(\n",
    "    ''' \n",
    "    select year(`OrderDate`) as `year`, round(sum(`Total Revenue`) , 2)as `Total Sales`, \n",
    "    round(sum(`Profit`) , 2) as `Total Profit`  \n",
    "    from orders\n",
    "    group by year\n",
    "    order by year\n",
    "    '''\n",
    ")\n",
    "\n",
    "result6.show()"
   ]
  },
  {
   "cell_type": "code",
   "execution_count": 42,
   "id": "857e5095",
   "metadata": {},
   "outputs": [
    {
     "data": {
      "text/plain": [
       "'The year with the highest profit is 2018.0 and the year with the lowest profit is 2019.0.'"
      ]
     },
     "execution_count": 42,
     "metadata": {},
     "output_type": "execute_result"
    }
   ],
   "source": [
    "df3 = result6.toPandas()\n",
    "df3_smart = SmartDataframe(df3)\n",
    "query = \"\"\"find which year has the highest profit and which year has the lowest profit\"\"\"\n",
    "df3_smart.chat(query) "
   ]
  },
  {
   "cell_type": "markdown",
   "id": "6b375bad",
   "metadata": {},
   "source": [
    "## --------------------------------------------------------------------------"
   ]
  },
  {
   "cell_type": "markdown",
   "id": "2eeae2f5",
   "metadata": {},
   "source": [
    "## find the quarter wise total profit"
   ]
  },
  {
   "cell_type": "code",
   "execution_count": 52,
   "id": "58fc3af8",
   "metadata": {},
   "outputs": [
    {
     "name": "stdout",
     "output_type": "stream",
     "text": [
      "+-------+------------+--------------------+\n",
      "|quarter| Total Sales|        Total Profit|\n",
      "+-------+------------+--------------------+\n",
      "|      1|3.91295879E7|1.4465851190000014E7|\n",
      "|      3|3.98566853E7|1.4814162980000002E7|\n",
      "|      4|3.78534724E7|1.4303368110000005E7|\n",
      "|      2| 3.7733395E7|1.4205730140000006E7|\n",
      "+-------+------------+--------------------+\n",
      "\n"
     ]
    }
   ],
   "source": [
    "result7 = app.sql(\n",
    "    '''  \n",
    "    select quarter(OrderDate) as `quarter`, round(sum(`Total Revenue`), 2) as `Total Sales`,\n",
    "    sum(`Profit`) as `Total Profit`\n",
    "    from orders\n",
    "    group by quarter\n",
    "    '''\n",
    ")\n",
    "\n",
    "result7.show()"
   ]
  },
  {
   "cell_type": "code",
   "execution_count": 62,
   "id": "19a9186c",
   "metadata": {},
   "outputs": [
    {
     "data": {
      "text/plain": [
       "'The quarter with the highest total profit is 3 and the quarter with the lowest total profit is 2.'"
      ]
     },
     "execution_count": 62,
     "metadata": {},
     "output_type": "execute_result"
    }
   ],
   "source": [
    "df4 = result7.toPandas()\n",
    "df4_smart = SmartDataframe(df4)\n",
    "df4_smart.chat(\"\"\"find which quarter has the highest total profit and which quarter has the lowest total profit.\"\"\")"
   ]
  },
  {
   "cell_type": "markdown",
   "id": "6b8418e6",
   "metadata": {},
   "source": [
    "## --------------------------------------------------------------------------"
   ]
  },
  {
   "cell_type": "markdown",
   "id": "9b9da19b",
   "metadata": {},
   "source": [
    "## find the city wise total profit"
   ]
  },
  {
   "cell_type": "code",
   "execution_count": 65,
   "id": "2bd62eec",
   "metadata": {},
   "outputs": [
    {
     "name": "stdout",
     "output_type": "stream",
     "text": [
      "+-----------------+------------+------------+\n",
      "|             City| Total Sales|Total Profit|\n",
      "+-----------------+------------+------------+\n",
      "|       Wellington|   1591920.0|   576748.53|\n",
      "|            Waipa|   1720560.0|   649829.57|\n",
      "|         Franklin|   1020436.8|   400935.53|\n",
      "|           Clutha|   3332291.9|  1345769.18|\n",
      "|       Rangitikei|   1719199.9|   650441.19|\n",
      "|     New Plymouth|   1280383.4|    425842.7|\n",
      "| Palmerston North|   6967477.4|  2638189.85|\n",
      "|     Christchurch|1.15266934E7|  4333779.49|\n",
      "|Thames-Coromandel|   4377002.8|  1601213.88|\n",
      "|         Auckland|   7463277.4|  2853433.75|\n",
      "|        Waitakere|  1.119302E7|  4180236.23|\n",
      "|         Gisborne|   1707005.9|   644008.32|\n",
      "|    Central Otago|   1704493.4|   609966.44|\n",
      "|          Porirua|   1321628.6|   523461.75|\n",
      "|        Southland|   3106361.2|  1114282.64|\n",
      "|          Rotorua|   1810916.2|   650169.93|\n",
      "|          Hauraki|   1381781.2|   513584.58|\n",
      "|     Kapiti Coast|   1513302.2|   585360.77|\n",
      "|          Waikato|   1814808.9|    708014.2|\n",
      "|         Hastings|   1052851.4|   381997.44|\n",
      "|   Matamata-Piako|   1650524.9|   547456.25|\n",
      "|    South Waikato|   6586897.3|  2467584.26|\n",
      "|          Manukau|   9759802.9|  3644071.61|\n",
      "|        Whangarei|   4781240.6|  1812421.22|\n",
      "|       Upper Hutt|   2627170.5|   942922.53|\n",
      "|         Papakura|   1544041.8|   540914.65|\n",
      "|      North Shore|   4604990.4|  1763762.26|\n",
      "|          Tararua|   2862467.8|  1059287.41|\n",
      "|           Rodney|   1340576.2|    489445.1|\n",
      "|          Waimate|   1602526.1|   597094.42|\n",
      "|          Waitaki|   2732085.8|   994135.72|\n",
      "|          Dunedin|   4563269.5|  1740954.34|\n",
      "|           Nelson|   1744874.3|   623256.06|\n",
      "|         Hamilton|1.14908953E7|  4304665.86|\n",
      "|            Taupo|   3302336.2|  1283683.27|\n",
      "|         Tauranga|   1603155.9|   596210.59|\n",
      "|          Waitomo|   1485269.4|   548537.17|\n",
      "| Queenstown-Lakes|   1385653.8|   504832.55|\n",
      "|           Timaru|   2899009.6|  1110803.43|\n",
      "|        Far North|   1626116.8|   653732.67|\n",
      "|      Waimakariri|   1511821.5|   548514.71|\n",
      "|     Invercargill|   1155193.9|   428553.62|\n",
      "|         Wanganui|   3311609.0|  1254764.64|\n",
      "|           Napier|   7748503.1|  2846350.88|\n",
      "|           Tasman|   3047696.0|  1097891.23|\n",
      "+-----------------+------------+------------+\n",
      "\n"
     ]
    }
   ],
   "source": [
    "result8 = app.sql(\n",
    "    '''  \n",
    "    select r.City, round(sum(o.`Total Revenue`), 2) as `Total Sales`,\n",
    "    round(sum(o.`Profit`), 2) as `Total Profit`\n",
    "    from (orders as `o`) inner join (regions as `r`)\n",
    "    on o.`Region Index` = r.`Index`\n",
    "    group by r.City\n",
    "    '''\n",
    ")\n",
    "\n",
    "result8.show(n=1000)"
   ]
  },
  {
   "cell_type": "code",
   "execution_count": 69,
   "id": "eebad9b7",
   "metadata": {},
   "outputs": [
    {
     "data": {
      "text/plain": [
       "'The City with the highest total profit is Christchurch and the City with the lowest total profit is Hastings.'"
      ]
     },
     "execution_count": 69,
     "metadata": {},
     "output_type": "execute_result"
    }
   ],
   "source": [
    "df5 = result8.toPandas()\n",
    "df5_smart = SmartDataframe(df5)\n",
    "df5_smart.chat(\"\"\"find which City has the highest total profit and which City has the lowest total profit\"\"\")"
   ]
  },
  {
   "cell_type": "markdown",
   "id": "d6dca959",
   "metadata": {},
   "source": [
    "## --------------------------------------------------------------------------"
   ]
  }
 ],
 "metadata": {
  "kernelspec": {
   "display_name": "genai",
   "language": "python",
   "name": "python3"
  },
  "language_info": {
   "codemirror_mode": {
    "name": "ipython",
    "version": 3
   },
   "file_extension": ".py",
   "mimetype": "text/x-python",
   "name": "python",
   "nbconvert_exporter": "python",
   "pygments_lexer": "ipython3",
   "version": "3.12.7"
  }
 },
 "nbformat": 4,
 "nbformat_minor": 5
}
